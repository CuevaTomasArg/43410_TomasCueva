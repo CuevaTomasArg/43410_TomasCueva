{
 "cells": [
  {
   "cell_type": "code",
   "execution_count": 35,
   "metadata": {},
   "outputs": [],
   "source": [
    "import pandas as pd\n",
    "import numpy as np\n",
    "import datetime as dt"
   ]
  },
  {
   "cell_type": "code",
   "execution_count": 14,
   "metadata": {},
   "outputs": [],
   "source": [
    "df_dishes = pd.read_csv('./DB/DISHES.csv',sep = ';')\n",
    "df_restaurants = pd.read_csv('./DB/restaurants.csv', sep = ';')\n",
    "df_administratives = pd.read_csv('./DB/administratives.csv', sep = ';')\n",
    "\n"
   ]
  },
  {
   "cell_type": "code",
   "execution_count": 15,
   "metadata": {},
   "outputs": [
    {
     "name": "stdout",
     "output_type": "stream",
     "text": [
      "<class 'pandas.core.frame.DataFrame'>\n",
      "RangeIndex: 71 entries, 0 to 70\n",
      "Data columns (total 6 columns):\n",
      " #   Column       Non-Null Count  Dtype  \n",
      "---  ------       --------------  -----  \n",
      " 0   Restaurante  71 non-null     int64  \n",
      " 1   Plato        71 non-null     object \n",
      " 2   Descripción  71 non-null     object \n",
      " 3   Categoría    71 non-null     object \n",
      " 4   Precio       71 non-null     float64\n",
      " 5   id           71 non-null     int64  \n",
      "dtypes: float64(1), int64(2), object(3)\n",
      "memory usage: 3.5+ KB\n"
     ]
    }
   ],
   "source": [
    "df_dishes.info()"
   ]
  },
  {
   "cell_type": "code",
   "execution_count": 16,
   "metadata": {},
   "outputs": [
    {
     "name": "stdout",
     "output_type": "stream",
     "text": [
      "<class 'pandas.core.frame.DataFrame'>\n",
      "RangeIndex: 10 entries, 0 to 9\n",
      "Data columns (total 3 columns):\n",
      " #   Column     Non-Null Count  Dtype \n",
      "---  ------     --------------  ----- \n",
      " 0   id         10 non-null     int64 \n",
      " 1   name       10 non-null     object\n",
      " 2   direction  10 non-null     object\n",
      "dtypes: int64(1), object(2)\n",
      "memory usage: 372.0+ bytes\n"
     ]
    }
   ],
   "source": [
    "df_restaurants.info()"
   ]
  },
  {
   "cell_type": "code",
   "execution_count": 17,
   "metadata": {},
   "outputs": [
    {
     "name": "stdout",
     "output_type": "stream",
     "text": [
      "<class 'pandas.core.frame.DataFrame'>\n",
      "RangeIndex: 20 entries, 0 to 19\n",
      "Data columns (total 6 columns):\n",
      " #   Column         Non-Null Count  Dtype  \n",
      "---  ------         --------------  -----  \n",
      " 0   Nombre         20 non-null     object \n",
      " 1   Email          20 non-null     object \n",
      " 2   Contraseña     20 non-null     object \n",
      " 3   Rol            20 non-null     object \n",
      " 4   id             20 non-null     int64  \n",
      " 5   restaurant_id  20 non-null     float64\n",
      "dtypes: float64(1), int64(1), object(4)\n",
      "memory usage: 1.1+ KB\n"
     ]
    }
   ],
   "source": [
    "df_administratives.info()"
   ]
  },
  {
   "cell_type": "code",
   "execution_count": 20,
   "metadata": {},
   "outputs": [],
   "source": [
    "df_administratives['id'] = np.array(range(1,21))"
   ]
  },
  {
   "cell_type": "code",
   "execution_count": 23,
   "metadata": {},
   "outputs": [],
   "source": [
    "df_administratives.to_csv('./DB/administratives.csv',sep = ';')"
   ]
  },
  {
   "cell_type": "code",
   "execution_count": 42,
   "metadata": {},
   "outputs": [],
   "source": [
    "df_administratives = pd.read_csv('./DB/administratives.csv',sep = ';')"
   ]
  },
  {
   "attachments": {},
   "cell_type": "markdown",
   "metadata": {},
   "source": [
    "### Add id to dishes"
   ]
  },
  {
   "cell_type": "code",
   "execution_count": 25,
   "metadata": {},
   "outputs": [],
   "source": [
    "df_dishes['id'] = np.array(range(1,72))"
   ]
  },
  {
   "attachments": {},
   "cell_type": "markdown",
   "metadata": {},
   "source": [
    "#### Upload csv"
   ]
  },
  {
   "cell_type": "code",
   "execution_count": 33,
   "metadata": {},
   "outputs": [],
   "source": [
    "df_dishes.to_csv('./DB/dishes.csv',sep = ';')"
   ]
  },
  {
   "cell_type": "code",
   "execution_count": 27,
   "metadata": {},
   "outputs": [],
   "source": [
    "df_dishes = pd.read_csv('./DB/dishes.csv',sep = ';')"
   ]
  },
  {
   "attachments": {},
   "cell_type": "markdown",
   "metadata": {},
   "source": [
    "## each administrative and dish have a same restaurante, we going to add your id"
   ]
  },
  {
   "cell_type": "code",
   "execution_count": 32,
   "metadata": {},
   "outputs": [
    {
     "data": {
      "text/html": [
       "<div>\n",
       "<style scoped>\n",
       "    .dataframe tbody tr th:only-of-type {\n",
       "        vertical-align: middle;\n",
       "    }\n",
       "\n",
       "    .dataframe tbody tr th {\n",
       "        vertical-align: top;\n",
       "    }\n",
       "\n",
       "    .dataframe thead th {\n",
       "        text-align: right;\n",
       "    }\n",
       "</style>\n",
       "<table border=\"1\" class=\"dataframe\">\n",
       "  <thead>\n",
       "    <tr style=\"text-align: right;\">\n",
       "      <th></th>\n",
       "      <th>Unnamed: 0</th>\n",
       "      <th>Restaurante</th>\n",
       "      <th>Plato</th>\n",
       "      <th>Descripción</th>\n",
       "      <th>Categoría</th>\n",
       "      <th>Precio</th>\n",
       "      <th>id</th>\n",
       "    </tr>\n",
       "  </thead>\n",
       "  <tbody>\n",
       "    <tr>\n",
       "      <th>0</th>\n",
       "      <td>0</td>\n",
       "      <td>1</td>\n",
       "      <td>Classic Burger</td>\n",
       "      <td>Deliciosa hamburguesa clásica con carne jugosa...</td>\n",
       "      <td>Hamburguesa</td>\n",
       "      <td>9.99</td>\n",
       "      <td>1</td>\n",
       "    </tr>\n",
       "    <tr>\n",
       "      <th>1</th>\n",
       "      <td>1</td>\n",
       "      <td>1</td>\n",
       "      <td>Cheeseburger Supreme</td>\n",
       "      <td>Hamburguesa con doble carne, queso fundido, to...</td>\n",
       "      <td>Hamburguesa</td>\n",
       "      <td>12.99</td>\n",
       "      <td>2</td>\n",
       "    </tr>\n",
       "    <tr>\n",
       "      <th>2</th>\n",
       "      <td>2</td>\n",
       "      <td>1</td>\n",
       "      <td>Spicy Chicken Sandwich</td>\n",
       "      <td>Sándwich de pollo picante con lechuga, tomate ...</td>\n",
       "      <td>Sándwich</td>\n",
       "      <td>10.99</td>\n",
       "      <td>3</td>\n",
       "    </tr>\n",
       "    <tr>\n",
       "      <th>3</th>\n",
       "      <td>3</td>\n",
       "      <td>1</td>\n",
       "      <td>Vegetarian Deluxe</td>\n",
       "      <td>Burger vegetariana con una sabrosa mezcla de v...</td>\n",
       "      <td>Hamburguesa</td>\n",
       "      <td>9.99</td>\n",
       "      <td>4</td>\n",
       "    </tr>\n",
       "    <tr>\n",
       "      <th>4</th>\n",
       "      <td>4</td>\n",
       "      <td>2</td>\n",
       "      <td>Eggs Benedict</td>\n",
       "      <td>Huevos pochados sobre muffin inglés con loncha...</td>\n",
       "      <td>Desayuno</td>\n",
       "      <td>11.99</td>\n",
       "      <td>5</td>\n",
       "    </tr>\n",
       "    <tr>\n",
       "      <th>...</th>\n",
       "      <td>...</td>\n",
       "      <td>...</td>\n",
       "      <td>...</td>\n",
       "      <td>...</td>\n",
       "      <td>...</td>\n",
       "      <td>...</td>\n",
       "      <td>...</td>\n",
       "    </tr>\n",
       "    <tr>\n",
       "      <th>66</th>\n",
       "      <td>66</td>\n",
       "      <td>9</td>\n",
       "      <td>Tiramisu</td>\n",
       "      <td>Postre italiano clásico hecho con bizcochos, c...</td>\n",
       "      <td>Postre</td>\n",
       "      <td>7.99</td>\n",
       "      <td>67</td>\n",
       "    </tr>\n",
       "    <tr>\n",
       "      <th>67</th>\n",
       "      <td>67</td>\n",
       "      <td>10</td>\n",
       "      <td>BBQ Chicken Wings</td>\n",
       "      <td>Alitas de pollo bañadas en salsa BBQ y servida...</td>\n",
       "      <td>Aperitivo</td>\n",
       "      <td>8.99</td>\n",
       "      <td>68</td>\n",
       "    </tr>\n",
       "    <tr>\n",
       "      <th>68</th>\n",
       "      <td>68</td>\n",
       "      <td>10</td>\n",
       "      <td>Grilled Chicken Caesar Salad</td>\n",
       "      <td>Ensalada César con pollo a la parrilla, lechug...</td>\n",
       "      <td>Ensalada</td>\n",
       "      <td>10.99</td>\n",
       "      <td>69</td>\n",
       "    </tr>\n",
       "    <tr>\n",
       "      <th>69</th>\n",
       "      <td>69</td>\n",
       "      <td>10</td>\n",
       "      <td>Chicken Quesadilla</td>\n",
       "      <td>Quesadilla de pollo con queso cheddar derretid...</td>\n",
       "      <td>Plato Principal</td>\n",
       "      <td>9.99</td>\n",
       "      <td>70</td>\n",
       "    </tr>\n",
       "    <tr>\n",
       "      <th>70</th>\n",
       "      <td>70</td>\n",
       "      <td>10</td>\n",
       "      <td>Key Lime Pie</td>\n",
       "      <td>Tarta de lima con una base de galleta y crema ...</td>\n",
       "      <td>Postre</td>\n",
       "      <td>6.99</td>\n",
       "      <td>71</td>\n",
       "    </tr>\n",
       "  </tbody>\n",
       "</table>\n",
       "<p>71 rows × 7 columns</p>\n",
       "</div>"
      ],
      "text/plain": [
       "    Unnamed: 0  Restaurante                         Plato  \\\n",
       "0            0            1                Classic Burger   \n",
       "1            1            1          Cheeseburger Supreme   \n",
       "2            2            1        Spicy Chicken Sandwich   \n",
       "3            3            1             Vegetarian Deluxe   \n",
       "4            4            2                 Eggs Benedict   \n",
       "..         ...          ...                           ...   \n",
       "66          66            9                      Tiramisu   \n",
       "67          67           10             BBQ Chicken Wings   \n",
       "68          68           10  Grilled Chicken Caesar Salad   \n",
       "69          69           10            Chicken Quesadilla   \n",
       "70          70           10                  Key Lime Pie   \n",
       "\n",
       "                                          Descripción        Categoría  \\\n",
       "0   Deliciosa hamburguesa clásica con carne jugosa...      Hamburguesa   \n",
       "1   Hamburguesa con doble carne, queso fundido, to...      Hamburguesa   \n",
       "2   Sándwich de pollo picante con lechuga, tomate ...         Sándwich   \n",
       "3   Burger vegetariana con una sabrosa mezcla de v...      Hamburguesa   \n",
       "4   Huevos pochados sobre muffin inglés con loncha...         Desayuno   \n",
       "..                                                ...              ...   \n",
       "66  Postre italiano clásico hecho con bizcochos, c...           Postre   \n",
       "67  Alitas de pollo bañadas en salsa BBQ y servida...        Aperitivo   \n",
       "68  Ensalada César con pollo a la parrilla, lechug...         Ensalada   \n",
       "69  Quesadilla de pollo con queso cheddar derretid...  Plato Principal   \n",
       "70  Tarta de lima con una base de galleta y crema ...           Postre   \n",
       "\n",
       "    Precio  id  \n",
       "0     9.99   1  \n",
       "1    12.99   2  \n",
       "2    10.99   3  \n",
       "3     9.99   4  \n",
       "4    11.99   5  \n",
       "..     ...  ..  \n",
       "66    7.99  67  \n",
       "67    8.99  68  \n",
       "68   10.99  69  \n",
       "69    9.99  70  \n",
       "70    6.99  71  \n",
       "\n",
       "[71 rows x 7 columns]"
      ]
     },
     "execution_count": 32,
     "metadata": {},
     "output_type": "execute_result"
    }
   ],
   "source": [
    "df_dishes.head()"
   ]
  },
  {
   "cell_type": "code",
   "execution_count": 29,
   "metadata": {},
   "outputs": [
    {
     "data": {
      "text/html": [
       "<div>\n",
       "<style scoped>\n",
       "    .dataframe tbody tr th:only-of-type {\n",
       "        vertical-align: middle;\n",
       "    }\n",
       "\n",
       "    .dataframe tbody tr th {\n",
       "        vertical-align: top;\n",
       "    }\n",
       "\n",
       "    .dataframe thead th {\n",
       "        text-align: right;\n",
       "    }\n",
       "</style>\n",
       "<table border=\"1\" class=\"dataframe\">\n",
       "  <thead>\n",
       "    <tr style=\"text-align: right;\">\n",
       "      <th></th>\n",
       "      <th>id</th>\n",
       "      <th>name</th>\n",
       "      <th>direction</th>\n",
       "    </tr>\n",
       "  </thead>\n",
       "  <tbody>\n",
       "    <tr>\n",
       "      <th>0</th>\n",
       "      <td>1</td>\n",
       "      <td>McQueen's Burgers</td>\n",
       "      <td>Calle Rivadavia 123</td>\n",
       "    </tr>\n",
       "    <tr>\n",
       "      <th>1</th>\n",
       "      <td>2</td>\n",
       "      <td>Suburban Café</td>\n",
       "      <td>Avenida San Martín 456</td>\n",
       "    </tr>\n",
       "    <tr>\n",
       "      <th>2</th>\n",
       "      <td>3</td>\n",
       "      <td>Coffee Kingdom</td>\n",
       "      <td>Calle 7 789</td>\n",
       "    </tr>\n",
       "    <tr>\n",
       "      <th>3</th>\n",
       "      <td>4</td>\n",
       "      <td>Taco Emporium</td>\n",
       "      <td>Avenida 13 234</td>\n",
       "    </tr>\n",
       "    <tr>\n",
       "      <th>4</th>\n",
       "      <td>5</td>\n",
       "      <td>Pizzalicious</td>\n",
       "      <td>Calle 47 567</td>\n",
       "    </tr>\n",
       "  </tbody>\n",
       "</table>\n",
       "</div>"
      ],
      "text/plain": [
       "   id               name               direction\n",
       "0   1  McQueen's Burgers     Calle Rivadavia 123\n",
       "1   2      Suburban Café  Avenida San Martín 456\n",
       "2   3     Coffee Kingdom             Calle 7 789\n",
       "3   4      Taco Emporium          Avenida 13 234\n",
       "4   5       Pizzalicious            Calle 47 567"
      ]
     },
     "execution_count": 29,
     "metadata": {},
     "output_type": "execute_result"
    }
   ],
   "source": [
    "df_restaurants.head()"
   ]
  },
  {
   "cell_type": "code",
   "execution_count": 43,
   "metadata": {},
   "outputs": [
    {
     "data": {
      "text/html": [
       "<div>\n",
       "<style scoped>\n",
       "    .dataframe tbody tr th:only-of-type {\n",
       "        vertical-align: middle;\n",
       "    }\n",
       "\n",
       "    .dataframe tbody tr th {\n",
       "        vertical-align: top;\n",
       "    }\n",
       "\n",
       "    .dataframe thead th {\n",
       "        text-align: right;\n",
       "    }\n",
       "</style>\n",
       "<table border=\"1\" class=\"dataframe\">\n",
       "  <thead>\n",
       "    <tr style=\"text-align: right;\">\n",
       "      <th></th>\n",
       "      <th>Nombre</th>\n",
       "      <th>Email</th>\n",
       "      <th>Contraseña</th>\n",
       "      <th>Rol</th>\n",
       "      <th>id</th>\n",
       "    </tr>\n",
       "  </thead>\n",
       "  <tbody>\n",
       "    <tr>\n",
       "      <th>0</th>\n",
       "      <td>Rodrigo López</td>\n",
       "      <td>rodrigo@example.com</td>\n",
       "      <td>KX8YtZ5Q7a</td>\n",
       "      <td>Caja</td>\n",
       "      <td>1</td>\n",
       "    </tr>\n",
       "    <tr>\n",
       "      <th>1</th>\n",
       "      <td>Valentina Fernández</td>\n",
       "      <td>valentina@example.com</td>\n",
       "      <td>T2jF9P4D6s</td>\n",
       "      <td>Mozo</td>\n",
       "      <td>2</td>\n",
       "    </tr>\n",
       "    <tr>\n",
       "      <th>2</th>\n",
       "      <td>Federico Martínez</td>\n",
       "      <td>federico@example.com</td>\n",
       "      <td>M3rK7iG1V8</td>\n",
       "      <td>Administrativo</td>\n",
       "      <td>3</td>\n",
       "    </tr>\n",
       "    <tr>\n",
       "      <th>3</th>\n",
       "      <td>Camila Herrera</td>\n",
       "      <td>camila@example.com</td>\n",
       "      <td>E9sF6H2J1c</td>\n",
       "      <td>Mozo</td>\n",
       "      <td>4</td>\n",
       "    </tr>\n",
       "    <tr>\n",
       "      <th>4</th>\n",
       "      <td>Lucas Gómez</td>\n",
       "      <td>lucas@example.com</td>\n",
       "      <td>B5vR9A3K8t</td>\n",
       "      <td>Caja</td>\n",
       "      <td>5</td>\n",
       "    </tr>\n",
       "  </tbody>\n",
       "</table>\n",
       "</div>"
      ],
      "text/plain": [
       "                Nombre                  Email  Contraseña             Rol  id\n",
       "0        Rodrigo López    rodrigo@example.com  KX8YtZ5Q7a            Caja   1\n",
       "1  Valentina Fernández  valentina@example.com  T2jF9P4D6s            Mozo   2\n",
       "2    Federico Martínez   federico@example.com  M3rK7iG1V8  Administrativo   3\n",
       "3       Camila Herrera     camila@example.com  E9sF6H2J1c            Mozo   4\n",
       "4          Lucas Gómez      lucas@example.com  B5vR9A3K8t            Caja   5"
      ]
     },
     "execution_count": 43,
     "metadata": {},
     "output_type": "execute_result"
    }
   ],
   "source": [
    "df_administratives.head()"
   ]
  },
  {
   "attachments": {},
   "cell_type": "markdown",
   "metadata": {},
   "source": [
    "### Add id's restaurante to dishes foreing key"
   ]
  },
  {
   "cell_type": "code",
   "execution_count": 54,
   "metadata": {},
   "outputs": [],
   "source": [
    "df_dishes = df_dishes.drop('Unnamed: 0', axis=1)\n"
   ]
  },
  {
   "cell_type": "code",
   "execution_count": 60,
   "metadata": {},
   "outputs": [
    {
     "name": "stdout",
     "output_type": "stream",
     "text": [
      "<class 'pandas.core.frame.DataFrame'>\n",
      "RangeIndex: 71 entries, 0 to 70\n",
      "Data columns (total 6 columns):\n",
      " #   Column       Non-Null Count  Dtype  \n",
      "---  ------       --------------  -----  \n",
      " 0   Restaurante  71 non-null     int64  \n",
      " 1   Plato        71 non-null     object \n",
      " 2   Descripción  71 non-null     object \n",
      " 3   Categoría    71 non-null     object \n",
      " 4   Precio       71 non-null     float64\n",
      " 5   id           71 non-null     int64  \n",
      "dtypes: float64(1), int64(2), object(3)\n",
      "memory usage: 3.5+ KB\n"
     ]
    }
   ],
   "source": [
    "df_dishes.info()\n",
    "df_dishes.to_csv('./DB/DISHES.csv', sep = ';')"
   ]
  },
  {
   "cell_type": "code",
   "execution_count": 30,
   "metadata": {},
   "outputs": [
    {
     "name": "stdout",
     "output_type": "stream",
     "text": [
      "    Unnamed: 0  Restaurante                         Plato  \\\n",
      "0            0            1                Classic Burger   \n",
      "1            1            1          Cheeseburger Supreme   \n",
      "2            2            1        Spicy Chicken Sandwich   \n",
      "3            3            1             Vegetarian Deluxe   \n",
      "4            4            2                 Eggs Benedict   \n",
      "..         ...          ...                           ...   \n",
      "66          66            9                      Tiramisu   \n",
      "67          67           10             BBQ Chicken Wings   \n",
      "68          68           10  Grilled Chicken Caesar Salad   \n",
      "69          69           10            Chicken Quesadilla   \n",
      "70          70           10                  Key Lime Pie   \n",
      "\n",
      "                                          Descripción        Categoría  \\\n",
      "0   Deliciosa hamburguesa clásica con carne jugosa...      Hamburguesa   \n",
      "1   Hamburguesa con doble carne, queso fundido, to...      Hamburguesa   \n",
      "2   Sándwich de pollo picante con lechuga, tomate ...         Sándwich   \n",
      "3   Burger vegetariana con una sabrosa mezcla de v...      Hamburguesa   \n",
      "4   Huevos pochados sobre muffin inglés con loncha...         Desayuno   \n",
      "..                                                ...              ...   \n",
      "66  Postre italiano clásico hecho con bizcochos, c...           Postre   \n",
      "67  Alitas de pollo bañadas en salsa BBQ y servida...        Aperitivo   \n",
      "68  Ensalada César con pollo a la parrilla, lechug...         Ensalada   \n",
      "69  Quesadilla de pollo con queso cheddar derretid...  Plato Principal   \n",
      "70  Tarta de lima con una base de galleta y crema ...           Postre   \n",
      "\n",
      "    Precio  id  \n",
      "0     9.99   1  \n",
      "1    12.99   2  \n",
      "2    10.99   3  \n",
      "3     9.99   4  \n",
      "4    11.99   5  \n",
      "..     ...  ..  \n",
      "66    7.99  67  \n",
      "67    8.99  68  \n",
      "68   10.99  69  \n",
      "69    9.99  70  \n",
      "70    6.99  71  \n",
      "\n",
      "[71 rows x 7 columns]\n"
     ]
    }
   ],
   "source": [
    "# Mapear el nombre del restaurante por el ID del restaurante\n",
    "df_dishes['Restaurante'] = df_dishes['Restaurante'].map(df_restaurants.set_index('name')['id'])\n"
   ]
  },
  {
   "attachments": {},
   "cell_type": "markdown",
   "metadata": {},
   "source": [
    "### Add foreing key's restaurants to administratives"
   ]
  },
  {
   "cell_type": "code",
   "execution_count": 46,
   "metadata": {},
   "outputs": [
    {
     "name": "stdout",
     "output_type": "stream",
     "text": [
      "[ 1  2  3  4  5  6  7  8  9 10]\n",
      "[ 9.  1.  7.  3.  1.  2.  2.  2.  5.  3.  7.  1.  4.  4.  6.  1. 10.  2.\n",
      "  5.  8.]\n"
     ]
    }
   ],
   "source": [
    "# Arreglo NumPy\n",
    "arr = np.array(df_restaurants['id'])\n",
    "\n",
    "# Elegir un elemento aleatorio del arreglo\n",
    "elemento_aleatorio = np.random.choice(arr)\n",
    "\n",
    "new_arr = np.array([])\n",
    "for i in range(0,len(df_administratives['id'])):\n",
    "    elemento_aleatorio = np.random.choice(arr)\n",
    "    new_arr = np.append(new_arr,elemento_aleatorio)\n",
    "    \n",
    "print(arr)\n",
    "print(new_arr)\n",
    "    "
   ]
  },
  {
   "cell_type": "code",
   "execution_count": 48,
   "metadata": {},
   "outputs": [],
   "source": [
    "df_administratives['restaurant_id'] = new_arr"
   ]
  },
  {
   "cell_type": "code",
   "execution_count": 49,
   "metadata": {},
   "outputs": [
    {
     "data": {
      "text/html": [
       "<div>\n",
       "<style scoped>\n",
       "    .dataframe tbody tr th:only-of-type {\n",
       "        vertical-align: middle;\n",
       "    }\n",
       "\n",
       "    .dataframe tbody tr th {\n",
       "        vertical-align: top;\n",
       "    }\n",
       "\n",
       "    .dataframe thead th {\n",
       "        text-align: right;\n",
       "    }\n",
       "</style>\n",
       "<table border=\"1\" class=\"dataframe\">\n",
       "  <thead>\n",
       "    <tr style=\"text-align: right;\">\n",
       "      <th></th>\n",
       "      <th>Nombre</th>\n",
       "      <th>Email</th>\n",
       "      <th>Contraseña</th>\n",
       "      <th>Rol</th>\n",
       "      <th>id</th>\n",
       "      <th>restaurant_id</th>\n",
       "    </tr>\n",
       "  </thead>\n",
       "  <tbody>\n",
       "    <tr>\n",
       "      <th>0</th>\n",
       "      <td>Rodrigo López</td>\n",
       "      <td>rodrigo@example.com</td>\n",
       "      <td>KX8YtZ5Q7a</td>\n",
       "      <td>Caja</td>\n",
       "      <td>1</td>\n",
       "      <td>9.0</td>\n",
       "    </tr>\n",
       "    <tr>\n",
       "      <th>1</th>\n",
       "      <td>Valentina Fernández</td>\n",
       "      <td>valentina@example.com</td>\n",
       "      <td>T2jF9P4D6s</td>\n",
       "      <td>Mozo</td>\n",
       "      <td>2</td>\n",
       "      <td>1.0</td>\n",
       "    </tr>\n",
       "    <tr>\n",
       "      <th>2</th>\n",
       "      <td>Federico Martínez</td>\n",
       "      <td>federico@example.com</td>\n",
       "      <td>M3rK7iG1V8</td>\n",
       "      <td>Administrativo</td>\n",
       "      <td>3</td>\n",
       "      <td>7.0</td>\n",
       "    </tr>\n",
       "    <tr>\n",
       "      <th>3</th>\n",
       "      <td>Camila Herrera</td>\n",
       "      <td>camila@example.com</td>\n",
       "      <td>E9sF6H2J1c</td>\n",
       "      <td>Mozo</td>\n",
       "      <td>4</td>\n",
       "      <td>3.0</td>\n",
       "    </tr>\n",
       "    <tr>\n",
       "      <th>4</th>\n",
       "      <td>Lucas Gómez</td>\n",
       "      <td>lucas@example.com</td>\n",
       "      <td>B5vR9A3K8t</td>\n",
       "      <td>Caja</td>\n",
       "      <td>5</td>\n",
       "      <td>1.0</td>\n",
       "    </tr>\n",
       "    <tr>\n",
       "      <th>5</th>\n",
       "      <td>Sofía Rodríguez</td>\n",
       "      <td>sofia@example.com</td>\n",
       "      <td>R6G9E2T5Y3</td>\n",
       "      <td>Mozo</td>\n",
       "      <td>6</td>\n",
       "      <td>2.0</td>\n",
       "    </tr>\n",
       "    <tr>\n",
       "      <th>6</th>\n",
       "      <td>Martín Castro</td>\n",
       "      <td>martin@example.com</td>\n",
       "      <td>F3H7N4K2T6</td>\n",
       "      <td>Administrativo</td>\n",
       "      <td>7</td>\n",
       "      <td>2.0</td>\n",
       "    </tr>\n",
       "    <tr>\n",
       "      <th>7</th>\n",
       "      <td>Carolina Morales</td>\n",
       "      <td>carolina@example.com</td>\n",
       "      <td>Y8J4W7N6D2</td>\n",
       "      <td>Caja</td>\n",
       "      <td>8</td>\n",
       "      <td>2.0</td>\n",
       "    </tr>\n",
       "    <tr>\n",
       "      <th>8</th>\n",
       "      <td>Nicolás Sánchez</td>\n",
       "      <td>nicolas@example.com</td>\n",
       "      <td>Q1W5Z7X9V3</td>\n",
       "      <td>Administrativo</td>\n",
       "      <td>9</td>\n",
       "      <td>5.0</td>\n",
       "    </tr>\n",
       "    <tr>\n",
       "      <th>9</th>\n",
       "      <td>Victoria González</td>\n",
       "      <td>victoria@example.com</td>\n",
       "      <td>L5K9N3J7H4</td>\n",
       "      <td>Caja</td>\n",
       "      <td>10</td>\n",
       "      <td>3.0</td>\n",
       "    </tr>\n",
       "    <tr>\n",
       "      <th>10</th>\n",
       "      <td>Juan Cruz Medina</td>\n",
       "      <td>juan@example.com</td>\n",
       "      <td>X7T2V4B1A9</td>\n",
       "      <td>Mozo</td>\n",
       "      <td>11</td>\n",
       "      <td>7.0</td>\n",
       "    </tr>\n",
       "    <tr>\n",
       "      <th>11</th>\n",
       "      <td>Valeria Peralta</td>\n",
       "      <td>valeria@example.com</td>\n",
       "      <td>A3E8R5G7C2</td>\n",
       "      <td>Administrativo</td>\n",
       "      <td>12</td>\n",
       "      <td>1.0</td>\n",
       "    </tr>\n",
       "    <tr>\n",
       "      <th>12</th>\n",
       "      <td>Agustín Acosta</td>\n",
       "      <td>agustin@example.com</td>\n",
       "      <td>D4K6V1T7L9</td>\n",
       "      <td>Caja</td>\n",
       "      <td>13</td>\n",
       "      <td>4.0</td>\n",
       "    </tr>\n",
       "    <tr>\n",
       "      <th>13</th>\n",
       "      <td>Martina Ríos</td>\n",
       "      <td>martina@example.com</td>\n",
       "      <td>U2Y4R7E9H3</td>\n",
       "      <td>Administrativo</td>\n",
       "      <td>14</td>\n",
       "      <td>4.0</td>\n",
       "    </tr>\n",
       "    <tr>\n",
       "      <th>14</th>\n",
       "      <td>Santiago Vargas</td>\n",
       "      <td>santiago@example.com</td>\n",
       "      <td>H7N3T2W5D4</td>\n",
       "      <td>Mozo</td>\n",
       "      <td>15</td>\n",
       "      <td>6.0</td>\n",
       "    </tr>\n",
       "    <tr>\n",
       "      <th>15</th>\n",
       "      <td>Florencia Romero</td>\n",
       "      <td>florencia@example.com</td>\n",
       "      <td>S4D9G6H2L1</td>\n",
       "      <td>Caja</td>\n",
       "      <td>16</td>\n",
       "      <td>1.0</td>\n",
       "    </tr>\n",
       "    <tr>\n",
       "      <th>16</th>\n",
       "      <td>Julián López</td>\n",
       "      <td>julian@example.com</td>\n",
       "      <td>N9B5T7R1M2</td>\n",
       "      <td>Administrativo</td>\n",
       "      <td>17</td>\n",
       "      <td>10.0</td>\n",
       "    </tr>\n",
       "    <tr>\n",
       "      <th>17</th>\n",
       "      <td>Lucía Morales</td>\n",
       "      <td>lucia@example.com</td>\n",
       "      <td>P8W3Y6Q9I5</td>\n",
       "      <td>Mozo</td>\n",
       "      <td>18</td>\n",
       "      <td>2.0</td>\n",
       "    </tr>\n",
       "    <tr>\n",
       "      <th>18</th>\n",
       "      <td>Bruno Fernández</td>\n",
       "      <td>bruno@example.com</td>\n",
       "      <td>V6C1X8Z3Q7</td>\n",
       "      <td>Caja</td>\n",
       "      <td>19</td>\n",
       "      <td>5.0</td>\n",
       "    </tr>\n",
       "    <tr>\n",
       "      <th>19</th>\n",
       "      <td>Valentina Díaz</td>\n",
       "      <td>valentina.diaz@example.com</td>\n",
       "      <td>I5H8K3T7R9</td>\n",
       "      <td>Administrativo</td>\n",
       "      <td>20</td>\n",
       "      <td>8.0</td>\n",
       "    </tr>\n",
       "  </tbody>\n",
       "</table>\n",
       "</div>"
      ],
      "text/plain": [
       "                 Nombre                       Email  Contraseña  \\\n",
       "0         Rodrigo López         rodrigo@example.com  KX8YtZ5Q7a   \n",
       "1   Valentina Fernández       valentina@example.com  T2jF9P4D6s   \n",
       "2     Federico Martínez        federico@example.com  M3rK7iG1V8   \n",
       "3        Camila Herrera          camila@example.com  E9sF6H2J1c   \n",
       "4           Lucas Gómez           lucas@example.com  B5vR9A3K8t   \n",
       "5       Sofía Rodríguez           sofia@example.com  R6G9E2T5Y3   \n",
       "6         Martín Castro          martin@example.com  F3H7N4K2T6   \n",
       "7      Carolina Morales        carolina@example.com  Y8J4W7N6D2   \n",
       "8       Nicolás Sánchez         nicolas@example.com  Q1W5Z7X9V3   \n",
       "9     Victoria González        victoria@example.com  L5K9N3J7H4   \n",
       "10     Juan Cruz Medina            juan@example.com  X7T2V4B1A9   \n",
       "11      Valeria Peralta         valeria@example.com  A3E8R5G7C2   \n",
       "12       Agustín Acosta         agustin@example.com  D4K6V1T7L9   \n",
       "13         Martina Ríos         martina@example.com  U2Y4R7E9H3   \n",
       "14      Santiago Vargas        santiago@example.com  H7N3T2W5D4   \n",
       "15     Florencia Romero       florencia@example.com  S4D9G6H2L1   \n",
       "16         Julián López          julian@example.com  N9B5T7R1M2   \n",
       "17        Lucía Morales           lucia@example.com  P8W3Y6Q9I5   \n",
       "18      Bruno Fernández           bruno@example.com  V6C1X8Z3Q7   \n",
       "19       Valentina Díaz  valentina.diaz@example.com  I5H8K3T7R9   \n",
       "\n",
       "               Rol  id  restaurant_id  \n",
       "0             Caja   1            9.0  \n",
       "1             Mozo   2            1.0  \n",
       "2   Administrativo   3            7.0  \n",
       "3             Mozo   4            3.0  \n",
       "4             Caja   5            1.0  \n",
       "5             Mozo   6            2.0  \n",
       "6   Administrativo   7            2.0  \n",
       "7             Caja   8            2.0  \n",
       "8   Administrativo   9            5.0  \n",
       "9             Caja  10            3.0  \n",
       "10            Mozo  11            7.0  \n",
       "11  Administrativo  12            1.0  \n",
       "12            Caja  13            4.0  \n",
       "13  Administrativo  14            4.0  \n",
       "14            Mozo  15            6.0  \n",
       "15            Caja  16            1.0  \n",
       "16  Administrativo  17           10.0  \n",
       "17            Mozo  18            2.0  \n",
       "18            Caja  19            5.0  \n",
       "19  Administrativo  20            8.0  "
      ]
     },
     "execution_count": 49,
     "metadata": {},
     "output_type": "execute_result"
    }
   ],
   "source": [
    "df_administratives"
   ]
  },
  {
   "cell_type": "code",
   "execution_count": 13,
   "metadata": {},
   "outputs": [],
   "source": [
    "df_administratives.to_csv('./DB_finish/administratives.csv', sep = ';')\n",
    "df_dishes.to_csv('./DB_finish/DISHES.csv', sep = ';')\n",
    "df_restaurants.to_csv('./DB_finish/restaurants.csv', sep = ';')"
   ]
  },
  {
   "attachments": {},
   "cell_type": "markdown",
   "metadata": {},
   "source": [
    "Assign the ids of restaurants and dishes in array of numpy"
   ]
  },
  {
   "cell_type": "code",
   "execution_count": 28,
   "metadata": {},
   "outputs": [],
   "source": [
    "array_id_restaurants = np.array(df_restaurants['id'])\n",
    "array_id_dish = np.array(df_dishes['id'])"
   ]
  },
  {
   "attachments": {},
   "cell_type": "markdown",
   "metadata": {},
   "source": [
    "Create a numpy array with one houndred thousand ids"
   ]
  },
  {
   "cell_type": "code",
   "execution_count": 20,
   "metadata": {},
   "outputs": [],
   "source": [
    "array_id_sales = np.arange(1,100001)"
   ]
  },
  {
   "attachments": {},
   "cell_type": "markdown",
   "metadata": {},
   "source": [
    "Create a Pandas' dataframe to one column using array of ids"
   ]
  },
  {
   "cell_type": "code",
   "execution_count": 23,
   "metadata": {},
   "outputs": [],
   "source": [
    "df_sales = pd.DataFrame(array_id_sales, columns = ['id'])"
   ]
  },
  {
   "cell_type": "code",
   "execution_count": 25,
   "metadata": {},
   "outputs": [],
   "source": [
    "df_sales['id_restaurant'] = 0"
   ]
  },
  {
   "attachments": {},
   "cell_type": "markdown",
   "metadata": {},
   "source": [
    "Complete the dataframe using to id_restaurants array "
   ]
  },
  {
   "cell_type": "code",
   "execution_count": 29,
   "metadata": {},
   "outputs": [],
   "source": [
    "\n",
    "for index, row in df_sales.iterrows():\n",
    "    elemento_aleatorio = np.random.choice(array_id_restaurants)\n",
    "    df_sales.at[index, 'id_restaurant'] = elemento_aleatorio\n"
   ]
  },
  {
   "cell_type": "code",
   "execution_count": 39,
   "metadata": {},
   "outputs": [],
   "source": [
    "fecha_actual = dt.datetime.now()\n",
    "rango_horario = pd.date_range(start=fecha_actual, periods=len(array_id_dish), freq='1T',)[::-1]  # Rango de 30 minutos"
   ]
  },
  {
   "cell_type": "code",
   "execution_count": 40,
   "metadata": {},
   "outputs": [
    {
     "data": {
      "text/plain": [
       "DatetimeIndex(['2023-06-04 13:49:22.789251', '2023-06-04 13:48:22.789251',\n",
       "               '2023-06-04 13:47:22.789251', '2023-06-04 13:46:22.789251',\n",
       "               '2023-06-04 13:45:22.789251', '2023-06-04 13:44:22.789251',\n",
       "               '2023-06-04 13:43:22.789251', '2023-06-04 13:42:22.789251',\n",
       "               '2023-06-04 13:41:22.789251', '2023-06-04 13:40:22.789251',\n",
       "               '2023-06-04 13:39:22.789251', '2023-06-04 13:38:22.789251',\n",
       "               '2023-06-04 13:37:22.789251', '2023-06-04 13:36:22.789251',\n",
       "               '2023-06-04 13:35:22.789251', '2023-06-04 13:34:22.789251',\n",
       "               '2023-06-04 13:33:22.789251', '2023-06-04 13:32:22.789251',\n",
       "               '2023-06-04 13:31:22.789251', '2023-06-04 13:30:22.789251',\n",
       "               '2023-06-04 13:29:22.789251', '2023-06-04 13:28:22.789251',\n",
       "               '2023-06-04 13:27:22.789251', '2023-06-04 13:26:22.789251',\n",
       "               '2023-06-04 13:25:22.789251', '2023-06-04 13:24:22.789251',\n",
       "               '2023-06-04 13:23:22.789251', '2023-06-04 13:22:22.789251',\n",
       "               '2023-06-04 13:21:22.789251', '2023-06-04 13:20:22.789251',\n",
       "               '2023-06-04 13:19:22.789251', '2023-06-04 13:18:22.789251',\n",
       "               '2023-06-04 13:17:22.789251', '2023-06-04 13:16:22.789251',\n",
       "               '2023-06-04 13:15:22.789251', '2023-06-04 13:14:22.789251',\n",
       "               '2023-06-04 13:13:22.789251', '2023-06-04 13:12:22.789251',\n",
       "               '2023-06-04 13:11:22.789251', '2023-06-04 13:10:22.789251',\n",
       "               '2023-06-04 13:09:22.789251', '2023-06-04 13:08:22.789251',\n",
       "               '2023-06-04 13:07:22.789251', '2023-06-04 13:06:22.789251',\n",
       "               '2023-06-04 13:05:22.789251', '2023-06-04 13:04:22.789251',\n",
       "               '2023-06-04 13:03:22.789251', '2023-06-04 13:02:22.789251',\n",
       "               '2023-06-04 13:01:22.789251', '2023-06-04 13:00:22.789251',\n",
       "               '2023-06-04 12:59:22.789251', '2023-06-04 12:58:22.789251',\n",
       "               '2023-06-04 12:57:22.789251', '2023-06-04 12:56:22.789251',\n",
       "               '2023-06-04 12:55:22.789251', '2023-06-04 12:54:22.789251',\n",
       "               '2023-06-04 12:53:22.789251', '2023-06-04 12:52:22.789251',\n",
       "               '2023-06-04 12:51:22.789251', '2023-06-04 12:50:22.789251',\n",
       "               '2023-06-04 12:49:22.789251', '2023-06-04 12:48:22.789251',\n",
       "               '2023-06-04 12:47:22.789251', '2023-06-04 12:46:22.789251',\n",
       "               '2023-06-04 12:45:22.789251', '2023-06-04 12:44:22.789251',\n",
       "               '2023-06-04 12:43:22.789251', '2023-06-04 12:42:22.789251',\n",
       "               '2023-06-04 12:41:22.789251', '2023-06-04 12:40:22.789251',\n",
       "               '2023-06-04 12:39:22.789251'],\n",
       "              dtype='datetime64[ns]', freq='-1T')"
      ]
     },
     "execution_count": 40,
     "metadata": {},
     "output_type": "execute_result"
    }
   ],
   "source": [
    "rango_horario"
   ]
  }
 ],
 "metadata": {
  "kernelspec": {
   "display_name": "venv",
   "language": "python",
   "name": "python3"
  },
  "language_info": {
   "codemirror_mode": {
    "name": "ipython",
    "version": 3
   },
   "file_extension": ".py",
   "mimetype": "text/x-python",
   "name": "python",
   "nbconvert_exporter": "python",
   "pygments_lexer": "ipython3",
   "version": "3.11.3"
  },
  "orig_nbformat": 4
 },
 "nbformat": 4,
 "nbformat_minor": 2
}
